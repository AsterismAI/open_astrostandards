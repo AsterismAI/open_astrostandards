{
 "cells": [
  {
   "cell_type": "markdown",
   "id": "ce424b42-d942-4255-b761-dc212e8647db",
   "metadata": {},
   "source": [
    "# EGP sans BatchDC\n",
    "\n",
    "Kerry N. Wood\n",
    "\n",
    "kerry.wood@asterism.ai\n",
    "\n",
    "January 21, 2025\n",
    "\n",
    "We often want a type-0 TLE from a type-4 one.  The AstroStandards has routines for this, but they're hidden in Batch (and thus ITAR).  Write an open-source version.\n",
    "\n",
    "Do NOT hide any functionality in nice routines.  Show all the sausage."
   ]
  },
  {
   "cell_type": "code",
   "execution_count": 1,
   "id": "db1383b4-9a96-46e4-972c-56cdec37dfee",
   "metadata": {},
   "outputs": [
    {
     "ename": "ModuleNotFoundError",
     "evalue": "No module named 'public_astrostandards'",
     "output_type": "error",
     "traceback": [
      "\u001b[0;31m---------------------------------------------------------------------------\u001b[0m",
      "\u001b[0;31mModuleNotFoundError\u001b[0m                       Traceback (most recent call last)",
      "Cell \u001b[0;32mIn[1], line 1\u001b[0m\n\u001b[0;32m----> 1\u001b[0m \u001b[38;5;28;01mfrom\u001b[39;00m \u001b[38;5;21;01mpublic_astrostandards\u001b[39;00m \u001b[38;5;28;01mimport\u001b[39;00m public_astrostandards \u001b[38;5;28;01mas\u001b[39;00m PA\n",
      "\u001b[0;31mModuleNotFoundError\u001b[0m: No module named 'public_astrostandards'"
     ]
    }
   ],
   "source": [
    "from public_astrostandards import public_astrostandards as PA"
   ]
  },
  {
   "cell_type": "code",
   "execution_count": null,
   "id": "8ad8ab9c-8451-4cdb-a343-6fb95c047d4c",
   "metadata": {},
   "outputs": [],
   "source": [
    "PA.init_all()\n",
    "PA.get_versions()"
   ]
  },
  {
   "cell_type": "code",
   "execution_count": null,
   "id": "c62220eb-b7ab-40cc-a791-2a8137c7ef07",
   "metadata": {},
   "outputs": [],
   "source": [
    "import time\n",
    "from datetime import datetime, timedelta\n",
    "import ctypes\n",
    "import numpy as np\n",
    "import scipy.optimize"
   ]
  },
  {
   "cell_type": "markdown",
   "id": "120e27a5-67c3-498e-bac7-99fdbf9e17a2",
   "metadata": {},
   "source": [
    "## Input data\n",
    "\n",
    "- initial TLE (seed)\n",
    "- window that we will fit the `type-0` over"
   ]
  },
  {
   "cell_type": "code",
   "execution_count": null,
   "id": "e0ebf008-05dd-4d33-ba01-456a2365b77f",
   "metadata": {},
   "outputs": [],
   "source": [
    "# example TLE \n",
    "# this is a type-4 faked by a modified from a space-track TLE\n",
    "L1 = '1 25544U 98067A   24365.67842578  .00026430  00000-0  46140-3 4  9990'\n",
    "L2 = '2 25544  51.6404  61.8250 0005853  25.4579 117.0387 15.50482079489028'\n",
    "\n",
    "# what dates should we convert to?\n",
    "WINDOW_START = datetime( year=2025, month=1, day=10 )\n",
    "WINDOW_END   = datetime( year=2025, month=1, day=11 )"
   ]
  },
  {
   "cell_type": "markdown",
   "id": "10fc8744-b97a-4102-ad18-e154f9eb5331",
   "metadata": {},
   "source": [
    "Initialize the astrostandards..."
   ]
  },
  {
   "cell_type": "code",
   "execution_count": null,
   "id": "0ca9e8d3-32e0-4e03-9355-675ab13b8915",
   "metadata": {},
   "outputs": [],
   "source": [
    "# # init the astrostandards and get a version string\n",
    "# init_all()\n",
    "# # check the version of what you loaded\n",
    "# infostr = Cstr('',128)\n",
    "# DllMainDll.DllMainGetInfo( infostr )\n",
    "# print('I see version as :\\n\\t{}'.format( infostr.value.decode('utf-8') ) )"
   ]
  },
  {
   "cell_type": "markdown",
   "id": "d5d3421b-ea1e-40b3-9e8e-68a6866ff88d",
   "metadata": {},
   "source": [
    "### Generate truth data\n",
    "\n",
    "- truth is defined as the SG4-XP ephemeris (we will fit to that)"
   ]
  },
  {
   "cell_type": "code",
   "execution_count": null,
   "id": "ca8506f5-0492-4e4c-8ed3-05217643b088",
   "metadata": {},
   "outputs": [],
   "source": [
    "# clear all sats\n",
    "PA.TleDll.TleRemoveAllSats()\n",
    "# load the TLE\n",
    "tleid = PA.TleDll.TleAddSatFrLines( PA.Cstr(L1,512), PA.Cstr(L2,512) )\n",
    "\n",
    "# ----------------------------------------------------------------------------------------------\n",
    "# now, pull the data back out of AstroStandards and into an \"introspector\" helper class\n",
    "# per the code, these are the XA_TLE lookups... init a helper to parse those data\n",
    "XA_TLE = PA.helpers.astrostd_named_fields( PA.TleDll, prefix='XA_TLE_') \n",
    "# it also passes back some string values.. we'll ignore those\n",
    "XS_TLE = PA.Cstr('',512)\n",
    "# now pull..\n",
    "PA.TleDll.TleDataToArray( tleid, XA_TLE.data, XS_TLE )  # <--- note that you pass the \"data\" holder in\n",
    "origvals = XA_TLE.toDict()\n",
    "# print the data\n",
    "for k,v in origvals.items():\n",
    "    print('{:20} {}'.format( k,v ).replace(' ','.') )"
   ]
  },
  {
   "cell_type": "markdown",
   "id": "452bad42-2700-47c4-b75b-280e3a0c5586",
   "metadata": {},
   "source": [
    "## Fitting\n",
    "\n",
    "So, how will we do this?\n",
    "\n",
    "- copy over the data from the original TLE (as our seed orbit), but change the type to 0\n",
    "- specify which fields we will optimize over\n",
    "- let Python twiddle the bits until we have an answer that best matches our output ephemeris"
   ]
  },
  {
   "cell_type": "code",
   "execution_count": null,
   "id": "4951a1f1-9344-4829-8436-7dfb3239b09a",
   "metadata": {},
   "outputs": [],
   "source": [
    "# truth ephemeris; pick one minute spacing because reasons\n",
    "# convert dates to the astrostandards formats using our helpers\n",
    "WINDOW_START_DS50 = PA.helpers.datetime_to_ds50( WINDOW_START, PA.TimeFuncDll )\n",
    "WINDOW_END_DS50   = PA.helpers.datetime_to_ds50( WINDOW_END, PA.TimeFuncDll )\n",
    "DS50_DATES        = np.arange( WINDOW_START_DS50, WINDOW_END_DS50, 1/1440 )  # astrostandards does days since 1950.. this is one minute steps"
   ]
  },
  {
   "cell_type": "code",
   "execution_count": null,
   "id": "d8fc0384-591f-43ef-a986-58b01753c73f",
   "metadata": {},
   "outputs": [],
   "source": [
    "# helper routine to turn data arrays into TLE lines (using astrostandards)\n",
    "# data arrays are organized by the helper auto-parser\n",
    "def arrayToTle( HELPER : PA.helpers.astrostd_named_fields ):\n",
    "    PA.TleDll.TleRemoveAllSats()\n",
    "    tleid = PA.TleDll.TleAddSatFrArray( HELPER.data, XS_TLE )\n",
    "    assert tleid > 0\n",
    "    outL1, outL2 = PA.Cstr('',512), PA.Cstr('',512)\n",
    "    assert PA.TleDll.TleGetLines( tleid, outL1, outL2 ) == 0\n",
    "    return outL1.value.decode('utf-8'), outL2.value.decode('utf-8')"
   ]
  },
  {
   "cell_type": "code",
   "execution_count": null,
   "id": "1df8fea3-4b06-46ff-962c-8ce482ae57cd",
   "metadata": {},
   "outputs": [],
   "source": [
    "# -------------------------------------------------------------------------------------\n",
    "# propagate routine...\n",
    "# start with our C-handles to the variables\n",
    "mse = ctypes.c_double()\n",
    "pos = (ctypes.c_double * 3)()\n",
    "vel = (ctypes.c_double * 3)()\n",
    "llh = (ctypes.c_double * 3)()\n",
    "def propTle( tleid, ds50 : list ):\n",
    "    ''' propagate initialized tle to a bunch of dates, return matrix'''\n",
    "    def propDS50( tleid, date ):\n",
    "        PA.Sgp4PropDll.Sgp4PropDs50UTC( tleid, date, mse, pos, vel, llh )\n",
    "        return np.hstack( (date, float(mse.value), list(pos), list(vel)) )   # < -- note the use of list / float to get copies\n",
    "    return np.vstack( [ propDS50(tleid,D) for D in ds50 ] )\n",
    "\n",
    "# init the Sgp4 propagator on the tle\n",
    "assert 0 == PA.Sgp4PropDll.Sgp4InitSat( tleid )\n",
    "# now propagate\n",
    "truth  = propTle( tleid, DS50_DATES )\n",
    "# print(truth[0:2,:])"
   ]
  },
  {
   "cell_type": "markdown",
   "id": "e7db9a83-d4d7-472d-a854-2a6bf692f688",
   "metadata": {},
   "source": [
    "# Iteration object : a copy of the seed that we will optimize\n",
    "- pick the type (0)\n",
    "- also pick the epoch"
   ]
  },
  {
   "cell_type": "code",
   "execution_count": null,
   "id": "8b7f7bb1-4e3d-4d33-9fdf-5f3087f19a77",
   "metadata": {},
   "outputs": [],
   "source": [
    "# get another data holder and populate it with the same data as the seed\n",
    "TEST_TLE = PA.helpers.astrostd_named_fields( PA.TleDll, prefix='XA_TLE_') \n",
    "# use a conversion routine to convert to the array *without* loading\n",
    "PA.TleDll.TleLinesToArray( PA.Cstr(L1,512), PA.Cstr(L2,512), TEST_TLE.data, XS_TLE )\n",
    "# switch the type from 4 to zero... \n",
    "TEST_TLE['XA_TLE_EPHTYPE'] = 0.\n",
    "# set the epoch to the start of our interval\n",
    "TEST_TLE['XA_TLE_EPOCH'] = (WINDOW_START_DS50 + WINDOW_END_DS50) / 2"
   ]
  },
  {
   "cell_type": "code",
   "execution_count": null,
   "id": "df26e40a-472f-4244-bee7-1098362cf7dc",
   "metadata": {},
   "outputs": [],
   "source": [
    "for k,v in TEST_TLE.toDict().items():\n",
    "    print('{:20} {}'.format( k,v ).replace(' ','.') )"
   ]
  },
  {
   "cell_type": "markdown",
   "id": "7455b9ee-e84f-4358-8f9d-3ae8f32f729d",
   "metadata": {},
   "source": [
    "## Set the seed : set epoch and use the propagated SGP4-XP state closest to epoch as seed\n",
    "\n",
    "- reset the epoch on the optimize object\n",
    "- find the P,V nearest the epoch\n",
    "- find the osculating elements there and set the TLE to those values"
   ]
  },
  {
   "cell_type": "code",
   "execution_count": null,
   "id": "02907b5d-e907-43dd-b0e8-d4b575849421",
   "metadata": {},
   "outputs": [],
   "source": [
    "# reset the seed state to the new epoch, first find the closest date to the epoch\n",
    "new_epoch = TEST_TLE['XA_TLE_EPOCH']\n",
    "idx       = np.argmin( np.abs( truth[:,0] - new_epoch ) )\n",
    "new_sv    = truth[ idx ]\n",
    "P,V       = truth[idx,2:5], truth[idx,5:]\n",
    "\n",
    "# we'll use the conversion in the astrostandards\n",
    "XA_KEP    = PA.helpers.astrostd_named_fields( PA.AstroFuncDll,  prefix='XA_KEP_' )\n",
    "PA.AstroFuncDll.PosVelToKep( (ctypes.c_double*3)(*P), (ctypes.c_double*3)(*V), XA_KEP.data )\n",
    "\n",
    "# now set the values\n",
    "TEST_TLE['XA_TLE_INCLI']  = XA_KEP['XA_KEP_INCLI']\n",
    "TEST_TLE['XA_TLE_NODE']   = XA_KEP['XA_KEP_NODE']\n",
    "TEST_TLE['XA_TLE_ECCEN']  = XA_KEP['XA_KEP_E']\n",
    "TEST_TLE['XA_TLE_MNANOM'] = XA_KEP['XA_KEP_MA']\n",
    "TEST_TLE['XA_TLE_OMEGA']  = XA_KEP['XA_KEP_OMEGA']\n",
    "TEST_TLE['XA_TLE_OMEGA']  = XA_KEP['XA_KEP_OMEGA']\n",
    "TEST_TLE['XA_TLE_MNMOTN'] = PA.AstroFuncDll.AToN( XA_KEP['XA_KEP_A'] )\n",
    "\n",
    "# save those as our seedvals\n",
    "seedvals = TEST_TLE.toDict()"
   ]
  },
  {
   "cell_type": "code",
   "execution_count": null,
   "id": "161ef159-2e86-49a3-9013-c608ad25c819",
   "metadata": {},
   "outputs": [],
   "source": [
    "# what fields will we optimize over?  This doubles as a field accessor list for the optimizer..\n",
    "FIELDS = [\n",
    "'XA_TLE_BTERM',\n",
    "'XA_TLE_NDOT',\n",
    "'XA_TLE_SP_BTERM',\n",
    "'XA_TLE_INCLI',\n",
    "'XA_TLE_NODE',\n",
    "'XA_TLE_ECCEN',\n",
    "'XA_TLE_OMEGA',\n",
    "'XA_TLE_MNANOM',\n",
    "'XA_TLE_MNMOTN',\n",
    "]\n",
    "\n",
    "def optFunction( X, FIELDS, seedvals, return_scalar=True ):\n",
    "    # --------------------- set our seed values (all vals)\n",
    "    # do this so that we are always setting off the main TLE\n",
    "    for k,v in seedvals.items(): TEST_TLE[ k ] = v\n",
    "    # --------------------- now use modified values\n",
    "    # just in case there is a bad value in the above\n",
    "    for k,v in zip(FIELDS,X) :   TEST_TLE[ k ] = v\n",
    "    # --------------------- clear state\n",
    "    PA.TleDll.TleRemoveAllSats()\n",
    "    PA.Sgp4PropDll.Sgp4RemoveAllSats()\n",
    "    # --------------------- init our test TLE from the modified data\n",
    "    tleid = PA.TleDll.TleAddSatFrArray( TEST_TLE.data, XS_TLE )\n",
    "    if tleid <= 0: return np.inf\n",
    "    if PA.Sgp4PropDll.Sgp4InitSat( tleid ) != 0: return np.inf\n",
    "    # --------------------- generate our test ephemeris\n",
    "    test_tle = propTle( tleid, DS50_DATES )\n",
    "    # use numpy to return the distance between our hypothesis and truth\n",
    "    resids = test_tle[:,2:] - truth[:,2:]\n",
    "    rms    = np.sqrt( np.sum( np.linalg.norm( resids, axis=1 ) ) / resids.shape[0] )\n",
    "    print( rms , end='\\r')\n",
    "    if return_scalar:\n",
    "        return rms\n",
    "        # return np.sum( np.linalg.norm( resids[:,:3], axis=1 ) ) \n",
    "    else:\n",
    "        np.linalg.norm( resids[:,:3], axis=1 ) "
   ]
  },
  {
   "cell_type": "code",
   "execution_count": null,
   "id": "20779acf-f691-4713-aaa2-d3d67f67efc5",
   "metadata": {},
   "outputs": [],
   "source": [
    "st= time.time()\n",
    "\n",
    "# get an initial simplex that is rich in entropy\n",
    "# seed  = np.array( [ seedvals[k] for k in FIELDS ] )\n",
    "# N     = len(seed)\n",
    "# smplx = np.random.uniform(0,.5,size=(N+1,N))\n",
    "# smplx += seed \n",
    "\n",
    "# -----------------------------  nelder mead -----------------------------\n",
    "# if your seed is not near the final, nelder works great (at the expense of time)\n",
    "ans = scipy.optimize.minimize( optFunction, \n",
    "                               [ seedvals[k] for k in FIELDS ],\n",
    "                               args    = (FIELDS,seedvals,True),\n",
    "                               method  = 'Nelder-Mead' )\n",
    "                               # options = {'initial_simplex' : smplx } )\n",
    "\n",
    "# -----------------------------  least_sq  -----------------------------\n",
    "# if your seed IS near the final, follow the gradient\n",
    "# ans = scipy.optimize.least_squares( optFunction, \n",
    "#                                [ seedvals[k] for k in FIELDS ],\n",
    "#                                args = (FIELDS,seedvals, False) )\n",
    "\n",
    "print('Optimization / conversion took {:8.3f} seconds'.format( time.time() - st ) )"
   ]
  },
  {
   "cell_type": "code",
   "execution_count": null,
   "id": "18f00de8-c54d-408e-b911-ccb06a7960fe",
   "metadata": {},
   "outputs": [],
   "source": [
    "print('Your original TLE was')\n",
    "print('\\n'.join( [L1,L2] ) ) \n",
    "\n",
    "# what was our seed value\n",
    "for k,v in seedvals.items(): TEST_TLE[ k ] = v\n",
    "print('Your seed TLE was')\n",
    "print('\\n'.join(arrayToTle( TEST_TLE )))\n",
    "\n",
    "# now update with perturbed values\n",
    "for k,v in zip(FIELDS,ans.x) :   TEST_TLE[ k ] = v\n",
    "print('Your updated TLE is')\n",
    "print('\\n'.join(arrayToTle( TEST_TLE )))"
   ]
  },
  {
   "cell_type": "code",
   "execution_count": null,
   "id": "33aaf169-bf6d-446b-8c88-bd99a3a938fa",
   "metadata": {},
   "outputs": [],
   "source": [
    "for i,F in enumerate(FIELDS):\n",
    "    print('{:15} {:12.8f} {:12.8f}'.format(F, seedvals[F], ans.x[i] ) )"
   ]
  },
  {
   "cell_type": "code",
   "execution_count": null,
   "id": "993a1714-7ce6-47b2-87db-f443875741ec",
   "metadata": {},
   "outputs": [],
   "source": []
  }
 ],
 "metadata": {
  "kernelspec": {
   "display_name": "Python 3 (ipykernel)",
   "language": "python",
   "name": "python3"
  },
  "language_info": {
   "codemirror_mode": {
    "name": "ipython",
    "version": 3
   },
   "file_extension": ".py",
   "mimetype": "text/x-python",
   "name": "python",
   "nbconvert_exporter": "python",
   "pygments_lexer": "ipython3",
   "version": "3.10.12"
  }
 },
 "nbformat": 4,
 "nbformat_minor": 5
}
