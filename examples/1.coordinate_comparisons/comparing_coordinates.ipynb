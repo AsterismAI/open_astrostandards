{
 "cells": [
  {
   "cell_type": "markdown",
   "id": "19f51343-4e3c-43c2-9e27-69f24b2f8246",
   "metadata": {},
   "source": [
    "# Comparing AstroStandards Coordinate X-forms to Astropy\n",
    "\n",
    "Kerry N. Wood\n",
    "\n",
    "kerry.wood@asterism.ai\n",
    "\n",
    "January 22, 2023\n",
    "\n",
    "- code is developed to compare the coordinate transforms in the AstroStandards vs. AstroPy\n",
    "- once we're happy, I move those into a library so we can use them elsewhere (`as_coordinates.py`)"
   ]
  },
  {
   "cell_type": "code",
   "execution_count": null,
   "id": "29ada597-a9dd-4197-8f50-5cc91ccce2a4",
   "metadata": {},
   "outputs": [],
   "source": [
    "from datetime import datetime, timedelta\n",
    "import numpy as np\n",
    "import pandas as pd\n",
    "\n",
    "import astropy.coordinates\n",
    "import astropy.units as u\n",
    "import astropy.time\n",
    "\n",
    "import matplotlib.pyplot as plt\n",
    "\n",
    "# load our astrostandards harnesses and helper code\n",
    "from load_utils import *\n",
    "import helpers"
   ]
  },
  {
   "cell_type": "code",
   "execution_count": null,
   "id": "775b8504-3fe5-4547-9c1d-0d4c77dbdb0f",
   "metadata": {},
   "outputs": [],
   "source": [
    "# init the astrostandards\n",
    "init_all()"
   ]
  },
  {
   "cell_type": "code",
   "execution_count": null,
   "id": "5dd8b33e-c60d-4bb9-aed4-8e6217a9858d",
   "metadata": {},
   "outputs": [],
   "source": [
    "# we need time and coordinate (nutation) config.  \n",
    "# I wrote code that translates finals_2000A to the astrostandards format at : https://github.com/kerrywood/final2000_time_constants.git\n",
    "TimeFuncDll.TimeFuncLoadFile( Cstr('./time-constants.dat', 512) )"
   ]
  },
  {
   "cell_type": "markdown",
   "id": "aed674ae-dcd7-4d84-a9b9-5e9210e7e209",
   "metadata": {},
   "source": [
    "## Testing process\n",
    "\n",
    "- generate a set of points that are assumed to be in a frame\n",
    "- convert using utilities from AstroStandards and AstroPy\n",
    "- compare the answers"
   ]
  },
  {
   "cell_type": "code",
   "execution_count": null,
   "id": "d4857652-26e1-49a3-a185-4a447d50644a",
   "metadata": {},
   "outputs": [],
   "source": [
    "N = 10000\n",
    "\n",
    "test_EPH = np.random.uniform(6500, 55000, size=(N,3) )\n",
    "# go from 2000-2025 and randomly sample\n",
    "test_time = [  datetime(year=2000,month=1,day=1) + timedelta(days=X) for X in np.random.uniform(0,25*365.25,size=N) ]\n",
    "astro_date = astropy.time.Time( test_time )"
   ]
  },
  {
   "cell_type": "markdown",
   "id": "008588a5-5f37-46d3-9dd1-8f176243dfd4",
   "metadata": {},
   "source": [
    "## GCRS (J2K) to TEME"
   ]
  },
  {
   "cell_type": "code",
   "execution_count": null,
   "id": "9926b4a6-5134-4bb2-97cb-69c84ebf67b6",
   "metadata": {},
   "outputs": [],
   "source": [
    "# ------------------------------------  ASTROPY  ------------------------------------\n",
    "# astropy data\n",
    "astro_gcrs = astropy.coordinates.GCRS( x = test_EPH[:,0] * u.km,\n",
    "                                       y = test_EPH[:,1] * u.km,\n",
    "                                       z = test_EPH[:,2] * u.km,\n",
    "                                       obstime = astro_date,\n",
    "                                       representation_type = 'cartesian')\n",
    "# astropy GCRS to TEME\n",
    "astro_teme = astro_gcrs.transform_to( astropy.coordinates.TEME( obstime=test_time ) ).cartesian.xyz.to_value(u.km).T\n",
    "\n",
    "\n",
    "# ------------------------------------ ASTRO STANDARDS ------------------------------------\n",
    "# convert dates to astrostandards format using helpers\n",
    "as_dates = [ helpers.datetime_to_ds50(X,TimeFuncDll) for X in test_time ]\n",
    "\n",
    "# astrostandards GCRS to TEME\n",
    "vel_     = (ctypes.c_double*3)(0,0,0)\n",
    "posteme  = (ctypes.c_double*3)()\n",
    "velteme  = (ctypes.c_double*3)()\n",
    "\n",
    "def gcrs2teme_row( pos,date ):\n",
    "    AstroFuncDll.RotJ2KToDate( 1, 106, date, (ctypes.c_double * 3)(*pos), vel_, posteme, velteme )\n",
    "    return np.array( posteme )\n",
    "\n",
    "def gcrs2teme( mat, dates ):\n",
    "    return np.vstack( [gcrs2teme_row(X,d) for X,d in zip(mat,dates)] )\n",
    "\n",
    "as_teme = gcrs2teme( test_EPH, as_dates )"
   ]
  },
  {
   "cell_type": "code",
   "execution_count": null,
   "id": "f670fe43-a714-4897-a3fa-a7da6f5cc86e",
   "metadata": {},
   "outputs": [],
   "source": [
    "err = as_teme - astro_teme\n",
    "plt.close('all')\n",
    "_ = plt.hist( np.linalg.norm(err, axis=1 ), bins=100, color='#818181')\n",
    "plt.grid()\n",
    "plt.xlabel(\"Difference (km)\")\n",
    "plt.ylabel('Count')\n",
    "_ = plt.title('Astropy/AstroStandards GCRS->TEME comparison')"
   ]
  },
  {
   "cell_type": "markdown",
   "id": "f0c0734e-4b43-498b-81f5-88d4158a265c",
   "metadata": {},
   "source": [
    "## TEME to GCRS (J2K) "
   ]
  },
  {
   "cell_type": "code",
   "execution_count": null,
   "id": "1c03b4df-3672-40ae-be42-5499f64f2f59",
   "metadata": {},
   "outputs": [],
   "source": [
    "# ------------------------------------  ASTROPY  ------------------------------------\n",
    "# astropy data\n",
    "astro_teme = astropy.coordinates.TEME( x = test_EPH[:,0] * u.km,\n",
    "                                       y = test_EPH[:,1] * u.km,\n",
    "                                       z = test_EPH[:,2] * u.km,\n",
    "                                       obstime = astro_date,\n",
    "                                       representation_type = 'cartesian')\n",
    "# astropy GCRS to TEME\n",
    "astro_gcrs = astro_teme.transform_to( astropy.coordinates.GCRS( obstime=test_time ) ).cartesian.xyz.to_value(u.km).T\n",
    "\n",
    "# ------------------------------------ ASTRO STANDARDS ------------------------------------\n",
    "# convert dates to astrostandards format using helpers\n",
    "as_dates = [ helpers.datetime_to_ds50(X,TimeFuncDll) for X in test_time ]\n",
    "\n",
    "# astrostandards GCRS to TEME\n",
    "vel_   = (ctypes.c_double*3)(0,0,0)\n",
    "posj2k = (ctypes.c_double*3)()\n",
    "velj2k = (ctypes.c_double*3)()\n",
    "\n",
    "def teme2gcrs_row( pos,date ):\n",
    "    AstroFuncDll.RotDateToJ2K( 1, 106, date, (ctypes.c_double * 3)(*pos), vel_, posj2k, velj2k )\n",
    "    return np.array( posj2k )\n",
    "\n",
    "def teme2gcrs( mat, dates ):\n",
    "    return np.vstack( [teme2gcrs_row(X,d) for X,d in zip(mat,dates)] )\n",
    "\n",
    "as_gcrs = teme2gcrs( test_EPH, as_dates )"
   ]
  },
  {
   "cell_type": "code",
   "execution_count": null,
   "id": "4e3d5f7f-d667-4a37-be4c-697ccf01d724",
   "metadata": {},
   "outputs": [],
   "source": [
    "err = as_gcrs - astro_gcrs\n",
    "plt.close('all')\n",
    "_ = plt.hist( np.linalg.norm(err, axis=1 ), bins=100, color='#818181')\n",
    "plt.grid()\n",
    "plt.xlabel(\"Difference (km)\")\n",
    "plt.ylabel('Count')\n",
    "_ = plt.title('Astropy/AstroStandards TEME->GCRS comparison')"
   ]
  },
  {
   "cell_type": "markdown",
   "id": "f6c6625d-0cbd-4e0d-ad37-d8da0ebe4658",
   "metadata": {},
   "source": [
    "## ECI to EFG\n",
    "\n",
    "- EFG in AstroStandards is a little confusing..\n",
    "- note that in AstroStd, ECI means TEME"
   ]
  },
  {
   "cell_type": "code",
   "execution_count": null,
   "id": "bec28e37-0ce6-4429-ba48-9b0d343dcee9",
   "metadata": {},
   "outputs": [],
   "source": [
    "# ------------------------------------  ASTROPY  ------------------------------------\n",
    "# astropy data\n",
    "astro_teme = astropy.coordinates.TEME( x = test_EPH[:,0] * u.km,\n",
    "                                       y = test_EPH[:,1] * u.km,\n",
    "                                       z = test_EPH[:,2] * u.km,\n",
    "                                       obstime = astro_date,\n",
    "                                       representation_type = 'cartesian')\n",
    "# astropy GCRS to TEME\n",
    "astro_itrs = astro_teme.transform_to( astropy.coordinates.ITRS( obstime=astro_date ) ).cartesian.xyz.to_value(u.km).T\n",
    "\n",
    "# ------------------------------------ ASTRO STANDARDS ------------------------------------\n",
    "# convert dates to astrostandards format using helpers\n",
    "as_dates = [ helpers.datetime_to_ds50(X,TimeFuncDll) for X in test_time ]\n",
    "\n",
    "# astrostandards GCRS to TEME\n",
    "vel_   = (ctypes.c_double*3)(0,0,0)\n",
    "posefg = (ctypes.c_double*3)()\n",
    "velefg = (ctypes.c_double*3)()\n",
    "\n",
    "def teme2efg_row( pos,date ):\n",
    "    AstroFuncDll.ECIToEFGTime( date, (ctypes.c_double * 3)(*pos), vel_, posefg, velefg )\n",
    "    return np.array( posefg )\n",
    "\n",
    "def teme2efg( mat, dates ):\n",
    "    return np.vstack( [teme2efg_row(X,d) for X,d in zip(mat,dates)] )\n",
    "\n",
    "as_efg = teme2efg( test_EPH, as_dates )"
   ]
  },
  {
   "cell_type": "code",
   "execution_count": null,
   "id": "4f11209d-c074-4273-8d05-598b7ab81e50",
   "metadata": {},
   "outputs": [],
   "source": [
    "err = as_efg - astro_itrs\n",
    "plt.close('all')\n",
    "_ = plt.hist( np.linalg.norm(err, axis=1 ), bins=100, color='#818181', log=True)\n",
    "plt.grid()\n",
    "plt.xlabel(\"Difference (km)\")\n",
    "plt.ylabel('Count')\n",
    "_ = plt.title('Astropy/AstroStandards TEME->ITRS/EFG comparison')"
   ]
  },
  {
   "cell_type": "markdown",
   "id": "bd39d3db-6f92-43e2-8351-350c6860c887",
   "metadata": {},
   "source": [
    "## EFG to ECI"
   ]
  },
  {
   "cell_type": "code",
   "execution_count": null,
   "id": "78c994e1-3193-4abd-9b00-3b2a18765e03",
   "metadata": {},
   "outputs": [],
   "source": [
    "# ------------------------------------  ASTROPY  ------------------------------------\n",
    "# astropy data\n",
    "astro_itrs = astropy.coordinates.ITRS( x = test_EPH[:,0] * u.km,\n",
    "                                       y = test_EPH[:,1] * u.km,\n",
    "                                       z = test_EPH[:,2] * u.km,\n",
    "                                       obstime = astro_date,\n",
    "                                       representation_type = 'cartesian')\n",
    "# astropy GCRS to TEME\n",
    "astro_teme = astro_itrs.transform_to( astropy.coordinates.TEME( obstime=astro_date ) ).cartesian.xyz.to_value(u.km).T\n",
    "\n",
    "# ------------------------------------ ASTRO STANDARDS ------------------------------------\n",
    "# convert dates to astrostandards format using helpers\n",
    "as_dates = [ helpers.datetime_to_ds50(X,TimeFuncDll) for X in test_time ]\n",
    "\n",
    "# astrostandards GCRS to TEME\n",
    "vel_   = (ctypes.c_double*3)(0,0,0)\n",
    "posteme = (ctypes.c_double*3)()\n",
    "velteme = (ctypes.c_double*3)()\n",
    "\n",
    "def efg2teme_row( pos,date ):\n",
    "    AstroFuncDll.EFGToECITime( date, (ctypes.c_double * 3)(*pos), vel_, posteme, velteme )\n",
    "    return np.array( posteme )\n",
    "\n",
    "def efg2teme( mat, dates ):\n",
    "    return np.vstack( [efg2teme_row(X,d) for X,d in zip(mat,dates)] )\n",
    "\n",
    "as_efg = efg2teme( test_EPH, as_dates )"
   ]
  },
  {
   "cell_type": "code",
   "execution_count": null,
   "id": "cf4c8b40-45ac-46dc-b5b1-294bd7c7d3ef",
   "metadata": {},
   "outputs": [],
   "source": [
    "err = as_efg - astro_teme\n",
    "plt.close('all')\n",
    "_ = plt.hist( np.linalg.norm(err, axis=1 ), bins=100, color='#818181', log=True)\n",
    "plt.grid()\n",
    "plt.xlabel(\"Difference (km)\")\n",
    "plt.ylabel('Count')\n",
    "_ = plt.title('Astropy/AstroStandards GCRS->TEME comparison')"
   ]
  },
  {
   "cell_type": "markdown",
   "id": "0d08ddb8-f671-41c8-935c-1685f7c9c591",
   "metadata": {},
   "source": [
    "## TEME to LLH"
   ]
  },
  {
   "cell_type": "code",
   "execution_count": null,
   "id": "7776b436-80dd-4ec0-89ef-3278514282ac",
   "metadata": {},
   "outputs": [],
   "source": [
    "# ------------------------------------  ASTROPY  ------------------------------------\n",
    "# astropy data\n",
    "astro_teme = astropy.coordinates.TEME( x = test_EPH[:,0] * u.km,\n",
    "                                       y = test_EPH[:,1] * u.km,\n",
    "                                       z = test_EPH[:,2] * u.km,\n",
    "                                       obstime = astro_date,\n",
    "                                       representation_type = 'cartesian')\n",
    "# astropy GCRS to TEME\n",
    "astro_itrs = astro_teme.transform_to( astropy.coordinates.ITRS( obstime=astro_date ) )\n",
    "astro_el   = astro_itrs.earth_location.to_geodetic('WGS84')\n",
    "astro_llh  = np.vstack( (astro_el.lat.to_value(u.deg),astro_el.lon.to_value(u.deg),astro_el.height.to_value(u.km) ) ).T\n",
    "\n",
    "# ------------------------------------ ASTRO STANDARDS ------------------------------------\n",
    "# convert dates to astrostandards format using helpers\n",
    "as_dates = [ helpers.datetime_to_ds50(X,TimeFuncDll) for X in test_time ]\n",
    "\n",
    "# astrostandards GCRS to TEME\n",
    "vel_   = (ctypes.c_double*3)(0,0,0)\n",
    "llh    = (ctypes.c_double*3)()\n",
    "\n",
    "def eci2llh_row( pos,date ):\n",
    "    AstroFuncDll.XYZToLLHTime( date, (ctypes.c_double * 3)(*pos), llh )\n",
    "    return np.array( llh )\n",
    "\n",
    "def eci2llh( mat, dates ):\n",
    "    return np.vstack( [eci2llh_row(X,d) for X,d in zip(mat,dates)] )\n",
    "\n",
    "as_llh = eci2llh( test_EPH, as_dates )"
   ]
  },
  {
   "cell_type": "code",
   "execution_count": null,
   "id": "96be68e7-03f7-4ab5-91f6-65ea4092d248",
   "metadata": {},
   "outputs": [],
   "source": [
    "err = as_llh - astro_llh\n",
    "plt.close('all')\n",
    "f,ax = plt.subplots(1,3,figsize=(15,5), sharey=True)\n",
    "ax[0].plot( as_llh[:,0] - astro_llh[:,0],'.', color='k', markersize=1.0)\n",
    "err2 =  as_llh[:,1] - astro_llh[:,1]\n",
    "err2[ np.abs(err2) > 180 ] = 0\n",
    "ax[1].plot( err2,'.', color='k', markersize=1.0)\n",
    "ax[2].plot( as_llh[:,2] - astro_llh[:,2],'.', color='k', markersize=1.0)\n",
    "for a in ax: a.grid()\n",
    "ax[0].set_title('Lat error -- TEME->LLH')\n",
    "ax[1].set_title('Lon error -- TEME->LLH')\n",
    "ax[2].set_title('Alt error -- TEME->LLH')"
   ]
  },
  {
   "cell_type": "markdown",
   "id": "861876b4-cca7-400b-8e23-91f4c2159f38",
   "metadata": {},
   "source": [
    "# Topocentric (using only AstroFunc)\n",
    "\n",
    "- the astrostandards open `AstroFunc.h` has routines to help with topocentric computations, but they are wonky\n",
    "- this mega-function comuptes lots of attributes that you might need for sensor tasking / windows\n",
    "- peel out what you need\n",
    "\n",
    "- it builds a dataframe for a sensor site with all the necessary coordinates to find look vectors to targets\n",
    "- if you have a space-based sensor, skip the LLH conversion and just set the coordinate fields"
   ]
  },
  {
   "cell_type": "code",
   "execution_count": null,
   "id": "870af530-06af-41b3-82cf-dcd2fb114b88",
   "metadata": {},
   "outputs": [],
   "source": [
    "def setup_times( ds50_utc : float) :    # date in astrostandards epoch \n",
    "    '''\n",
    "    this will convert a set of astrostandard formatted times in UTC\n",
    "    to other time formats needed for conversion later\n",
    "    this is often the first function run\n",
    "    '''\n",
    "    def convert_from_utc( d50u ) :\n",
    "        d50et = TimeFuncDll.UTCToET( d50u )\n",
    "        d50ut = TimeFuncDll.UTCToUT1( d50u )\n",
    "        theta = TimeFuncDll.ThetaGrnwchFK5( d50ut )\n",
    "            \n",
    "        return {'ds50_utc' : d50u,\n",
    "                'ds50_et'  : d50et,\n",
    "                'ds50_ut1' : d50ut,\n",
    "                'sidereal' : theta}\n",
    "    return pd.DataFrame( [ convert_from_utc(D) for D in ds50_utc ] )\n",
    "\n",
    "# setup_times( as_dates )"
   ]
  },
  {
   "cell_type": "code",
   "execution_count": null,
   "id": "f1caf191-4efd-4a6a-b8ce-1ff3194a114b",
   "metadata": {},
   "outputs": [],
   "source": [
    "def llh_to_eci(      times : pd.DataFrame,     # from setup_times\n",
    "                     lat : float,              # latitude (degrees)\n",
    "                     lon : float,              # longitude (degrees)\n",
    "                     alt : float):             # altitude (above WGS84; km)\n",
    "    '''\n",
    "    times must have the ds50_utc entry filled\n",
    "    '''\n",
    "    # constant longitude\n",
    "    utc_dates      = times['ds50_utc']\n",
    "    sensor_lon_rad = np.radians(lon)\n",
    "    sen_eci        = (ctypes.c_double * 3)()\n",
    "    llh            = (ctypes.c_double * 3)( lat, lon, alt )\n",
    "    def llhtoxyz( d50_utc ):\n",
    "        theta = TimeFuncDll.ThetaGrnwchFK5( d50_utc )\n",
    "        lst   = sensor_lon_rad + theta\n",
    "        AstroFuncDll.LLHToXYZTime( d50_utc, llh, sen_eci )\n",
    "        return {'lat' : float(llh[0]), 'lon' : float(llh[1]), 'alt' : float(llh[2]), \n",
    "                'theta'  : theta, 'lst' : lst,\n",
    "                'teme_p' : list( sen_eci ),\n",
    "                'teme_v' : np.zeros(3) }\n",
    "    return pd.concat( (times, pd.DataFrame( [llhtoxyz(D) for D in utc_dates ])), axis=1)\n",
    "\n",
    "# llh_to_eci(setup_times(as_dates), 0, 90, 0)"
   ]
  },
  {
   "cell_type": "code",
   "execution_count": null,
   "id": "38c51f12-232c-47bc-be0d-433efee77045",
   "metadata": {},
   "outputs": [],
   "source": [
    "def get_celest( times : pd.DataFrame,      # from setup_times\n",
    "                fcn   : callable ):       \n",
    "    '''\n",
    "    times must have the ds50_et entry filled\n",
    "    '''\n",
    "    sun_v  = (ctypes.c_double * 3)()\n",
    "    sun_m  = ctypes.c_double()\n",
    "    def getpos( D ): \n",
    "        fcn( D, sun_v, sun_m )\n",
    "        return {'teme_p' : float(sun_m.value) * np.array(sun_v), \n",
    "               'teme_v' : np.zeros(3)}\n",
    "    return pd.DataFrame( [getpos(X) for X in times['ds50_et'] ] )\n",
    "\n",
    "def get_sun(   times: pd.DataFrame ):\n",
    "    return get_celest( times, AstroFuncDll.CompSunPos )\n",
    "\n",
    "def get_moon(   times: pd.DataFrame ):\n",
    "    return get_celest( times, AstroFuncDll.CompMoonPos )\n",
    "    \n",
    "# get_celest( setup_times(as_dates), AstroFuncDll.CompSunPos )\n",
    "# get_sun( setup_times(as_dates ) )\n",
    "# get_moon( setup_times(as_dates ) )"
   ]
  },
  {
   "cell_type": "code",
   "execution_count": null,
   "id": "268f63cb-7d19-42ba-aece-c649ed702fa0",
   "metadata": {},
   "outputs": [],
   "source": [
    "def topographic_calcs( observer_df : pd.DataFrame,      # must have times and teme locations filled in\n",
    "                       target_df   : pd.DataFrame ) :   # must have tmies and teme locations filled in\n",
    "    '''\n",
    "    you must have local sidereal time (lst) in this frame (so even for space based,\n",
    "    you need this value\n",
    "    '''\n",
    "    TOPO = helpers.astrostd_named_fields( AstroFuncDll, prefix='XA_TOPO_' )\n",
    "    def getTopo( S, T ):\n",
    "        AstroFuncDll.ECIToTopoComps( S['lst'], \n",
    "                                     S['lat'], \n",
    "                                     (ctypes.c_double * 3)(*S['teme_p']), \n",
    "                                     (ctypes.c_double * 3)(*T['teme_p']), \n",
    "                                     (ctypes.c_double * 3)(*T['teme_v']), TOPO.data )\n",
    "        return TOPO.toDict()\n",
    "\n",
    "    topo = pd.DataFrame( [getTopo(A,B) for A,B in zip( observer_df.to_dict('records'), target_df.to_dict('records')) ] )\n",
    "    return pd.concat( (observer_df.add_suffix('_sensor'), target_df.add_suffix('target'), topo ), axis=1 )\n",
    "\n",
    "# this is the recipe to get the moon\n",
    "times = setup_times( as_dates )\n",
    "sen   = llh_to_eci( times, 0, 90, 0 )\n",
    "moon  = get_moon( times )\n",
    "test_topo = topographic_calcs( sen, moon )"
   ]
  },
  {
   "cell_type": "code",
   "execution_count": null,
   "id": "f903c650-8ce1-419e-b24c-97da57fc324a",
   "metadata": {},
   "outputs": [],
   "source": [
    "test_topo.columns"
   ]
  },
  {
   "cell_type": "code",
   "execution_count": null,
   "id": "6f7bd0ae-ee86-424a-8be1-f14eef0237b6",
   "metadata": {},
   "outputs": [],
   "source": [
    "a_moon = astropy.coordinates.get_body('moon', astro_date)\n",
    "a_sen  = astropy.coordinates.EarthLocation( lat=0*u.deg, lon=90*u.deg, height=0*u.km)\n",
    "a_look = a_moon.transform_to( astropy.coordinates.AltAz( location=a_sen, obstime=astro_date ) )"
   ]
  },
  {
   "cell_type": "code",
   "execution_count": null,
   "id": "c57cffa0-ce24-4721-b236-7e60a72d3c86",
   "metadata": {},
   "outputs": [],
   "source": [
    "err = as_llh - astro_llh\n",
    "plt.close('all')\n",
    "f,ax = plt.subplots(1,3,figsize=(15,5), sharey=True )\n",
    "azerr = test_topo['XA_TOPO_AZ'] - a_look.az.to_value(u.deg)\n",
    "elerr = test_topo['XA_TOPO_EL'] - a_look.alt.to_value(u.deg)\n",
    "rnerr = test_topo['XA_TOPO_RANGE'] - a_look.distance.to_value(u.km)\n",
    "azerr = azerr[ np.abs(azerr) < 0.2 ]\n",
    "# ax[0].plot( azerr,'.', color='r', markersize=2.0)\n",
    "ax[0].hist( azerr, bins=100,  color='#818181')\n",
    "ax[1].hist( elerr, bins=100,  color='#818181')\n",
    "ax[2].hist( rnerr, bins=100,  color='#818181')\n",
    "for a in ax: a.grid()\n",
    "ax[0].set_title('Az error : Moon from 0,90')\n",
    "ax[1].set_title('El error : Moon from 0,90')\n",
    "ax[2].set_title('Range error : Moon from 0,90 (km)')\n",
    "# ax[0].set_xlim((-0.2,0.2))"
   ]
  }
 ],
 "metadata": {
  "kernelspec": {
   "display_name": "Python 3 (ipykernel)",
   "language": "python",
   "name": "python3"
  },
  "language_info": {
   "codemirror_mode": {
    "name": "ipython",
    "version": 3
   },
   "file_extension": ".py",
   "mimetype": "text/x-python",
   "name": "python",
   "nbconvert_exporter": "python",
   "pygments_lexer": "ipython3",
   "version": "3.10.12"
  }
 },
 "nbformat": 4,
 "nbformat_minor": 5
}
