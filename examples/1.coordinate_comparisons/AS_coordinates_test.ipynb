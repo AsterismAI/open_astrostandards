{
 "cells": [
  {
   "cell_type": "markdown",
   "id": "65aff9df-7b82-4a05-8cf1-a7353c1d575e",
   "metadata": {},
   "source": [
    "# AS_coordinates test\n",
    "\n",
    "Kerry N. Wood\n",
    "\n",
    "kerry.wood@asterism.ai\n",
    "\n",
    "January 22, 2023\n",
    "\n",
    "- the `comparing_coordinates` notebook helps us gin up methods for comparison\n",
    "- once we have that, we move the code into a library `as_coordinates`\n",
    "- this notebook tests that code and makes it useful for later conversions"
   ]
  },
  {
   "cell_type": "code",
   "execution_count": null,
   "id": "39938647-cd00-476e-a943-5c8a4c9afd61",
   "metadata": {},
   "outputs": [],
   "source": [
    "from datetime import datetime, timedelta\n",
    "import numpy as np\n",
    "import pandas as pd\n",
    "\n",
    "import astropy.coordinates\n",
    "import astropy.units as u\n",
    "import astropy.time\n",
    "\n",
    "import matplotlib.pyplot as plt\n",
    "\n",
    "import as_coordinates as AS\n",
    "\n",
    "from load_utils import *\n",
    "import helpers"
   ]
  },
  {
   "cell_type": "code",
   "execution_count": null,
   "id": "f708bbcd-5d46-4e33-8f13-c57a41789802",
   "metadata": {},
   "outputs": [],
   "source": [
    "init_all()"
   ]
  },
  {
   "cell_type": "code",
   "execution_count": null,
   "id": "cc407e98-306f-4449-b0a6-0c83d12afbc5",
   "metadata": {},
   "outputs": [],
   "source": [
    "TimeFuncDll.TimeFuncLoadFile( Cstr('./time-constants.dat', 512 ) )"
   ]
  },
  {
   "cell_type": "code",
   "execution_count": null,
   "id": "d59f5384-6395-4cac-b814-7ed4397356eb",
   "metadata": {},
   "outputs": [],
   "source": [
    "N = 10000\n",
    "\n",
    "test_EPH = np.random.uniform(6500, 55000, size=(N,3) )\n",
    "test_VEL = np.random.uniform(0, 10, size=(N,3) )\n",
    "# go from 2000-2025 and randomly sample\n",
    "test_time  = [  datetime(year=2000,month=1,day=1) + timedelta(days=X) for X in np.random.uniform(0,25*365.25,size=N) ]\n",
    "astro_date = astropy.time.Time( test_time )\n",
    "astd_date  = [ helpers.datetime_to_ds50( D, TimeFuncDll ) for D in test_time ]"
   ]
  },
  {
   "cell_type": "code",
   "execution_count": null,
   "id": "743a8e58-13ae-4cc9-b67f-fc3808f372b7",
   "metadata": {},
   "outputs": [],
   "source": [
    "# convert to TEME and check with AstroPY\n",
    "astd_teme = [ AS.j2k_to_teme( P,V,D,AstroFuncDll) for P,V,D in zip( test_EPH, test_VEL, astd_date ) ]\n",
    "astd_teme = np.vstack( [ np.hstack(R) for R in astd_teme ] )\n",
    "\n",
    "# ------------------------------------  ASTROPY  ------------------------------------\n",
    "# astropy data\n",
    "astro_gcrs = astropy.coordinates.GCRS( x = test_EPH[:,0] * u.km,\n",
    "                                       y = test_EPH[:,1] * u.km,\n",
    "                                       z = test_EPH[:,2] * u.km,\n",
    "                                       v_x = test_VEL[:,0] * u.km/u.s,\n",
    "                                       v_y = test_VEL[:,1] * u.km/u.s,\n",
    "                                       v_z = test_VEL[:,2] * u.km/u.s,\n",
    "                                       obstime = astro_date,\n",
    "                                       representation_type = 'cartesian')\n",
    "# astropy GCRS to TEME\n",
    "astro_teme_f = astro_gcrs.transform_to( astropy.coordinates.TEME( obstime=astro_date ) )\n",
    "astro_teme   = astro_teme_f.cartesian.xyz.to_value(u.km).T"
   ]
  },
  {
   "cell_type": "code",
   "execution_count": null,
   "id": "53981a19-33ae-4e0b-83bd-53e0b6dcf8b2",
   "metadata": {},
   "outputs": [],
   "source": [
    "err = astro_teme - astd_teme[:,:3]\n",
    "plt.close('all')\n",
    "_ = plt.hist( np.linalg.norm(err, axis=1 ), bins=100, color='#818181')\n",
    "plt.grid()\n",
    "plt.xlabel(\"Difference (km)\")\n",
    "plt.ylabel('Count')\n",
    "_ = plt.title('Astropy/AstroStandards GCRS->TEME comparison')"
   ]
  },
  {
   "cell_type": "code",
   "execution_count": null,
   "id": "dbd9bce5-d3b9-4741-9e43-75b8a8ce95c3",
   "metadata": {},
   "outputs": [],
   "source": [
    "LAT, LON, ALT = 0, 0, 0\n",
    "\n",
    "# setup our times frame\n",
    "times = AS.setup_times( astd_date, TimeFuncDll )\n",
    "\n",
    "# now injecft times frame with the eci positions and velocities\n",
    "targets = times.copy()\n",
    "targets['teme_p'] = astd_teme[:,:3].tolist()\n",
    "targets['teme_v'] = astd_teme[:,3:].tolist()\n",
    "\n",
    "# infer the LLH coordinates (needed for topocomps)\n",
    "targets = AS.annotate_teme_llh( targets, AstroFuncDll, TimeFuncDll )\n",
    "\n",
    "# make another times copy for a sensor\n",
    "sensor = times.copy()\n",
    "# annotate with LLH info directly\n",
    "sensor = AS.times_to_llhsensor( times, LAT, LON, ALT, AstroFuncDll, TimeFuncDll )\n",
    "\n",
    "# now compute some looks\n",
    "looks = AS.topographic_calcs( sensor, targets, AstroFuncDll)"
   ]
  },
  {
   "cell_type": "code",
   "execution_count": null,
   "id": "a5ab14df-2d39-4438-9bec-f506580d052e",
   "metadata": {},
   "outputs": [],
   "source": [
    "# now check with astropy\n",
    "astropy_sen  = astropy.coordinates.EarthLocation( lat=LAT*u.deg, lon=LON*u.deg, height=ALT*u.km, ellipsoid='WGS84')\n",
    "astropy_look = astro_gcrs.transform_to( astropy.coordinates.AltAz( location=astropy_sen, obstime=astro_gcrs.obstime ) )"
   ]
  },
  {
   "cell_type": "code",
   "execution_count": null,
   "id": "51f4c2ac-c991-4718-b89c-28161fae7783",
   "metadata": {},
   "outputs": [],
   "source": [
    "plt.close('all')\n",
    "f,ax = plt.subplots(1,3,figsize=(15,4))\n",
    "# avoid numbers like 359...\n",
    "err = astropy_look.az.to_value(u.deg) - looks['XA_TOPO_AZ']\n",
    "err = err[ np.abs(err) < 10 ]\n",
    "_ = ax[0].hist( err, bins=100, color='#818181') \n",
    "ax[0].set_title('XA_TOPO_AZ')\n",
    "_ = ax[1].hist( astropy_look.alt.to_value(u.deg) - looks['XA_TOPO_EL'], bins=100, color='#818181') \n",
    "ax[1].set_title('XA_TOPO_EL')\n",
    "_ = ax[2].hist( astropy_look.distance.to_value(u.km) - looks['XA_TOPO_RANGE'], bins=100, color='#818181') \n",
    "ax[2].set_title('XA_TOPO_RANGE')\n",
    "for a in ax: a.grid()"
   ]
  },
  {
   "cell_type": "code",
   "execution_count": null,
   "id": "49768ffc-c912-423b-bd2f-8448281c5ff0",
   "metadata": {},
   "outputs": [],
   "source": [
    "looks.columns"
   ]
  },
  {
   "cell_type": "code",
   "execution_count": null,
   "id": "4bd587e7-7ea3-4531-9856-c8a8663fd240",
   "metadata": {},
   "outputs": [],
   "source": [
    "# manually calculate the RA / DEC from the TEME vectors\n",
    "def calcRADEC( R ):\n",
    "    lv  = np.array(R['teme_p_target']) - np.array(R['teme_p_sensor'])\n",
    "    lvn = lv / np.linalg.norm(lv)\n",
    "    return np.degrees( np.arctan2( lvn[1], lvn[0] ) ), 90-np.degrees( np.arccos( lvn[2] ) )\n",
    "\n",
    "radec = looks.apply( calcRADEC, axis=1 )\n",
    "looks['ra'] = [ X[0] for X in radec] \n",
    "looks['dec'] = [ X[1] for X in radec] \n",
    "\n",
    "def calcRADECDot( R ):\n",
    "    lv  = np.array(R['teme_v_target']) - np.array(R['teme_v_sensor'])\n",
    "    return np.degrees( np.arctan2( lv[1], lv[0] ) ), 90-np.degrees( np.arccos( lv[2] / np.linalg.norm(lv) ) )\n",
    "\n",
    "radec = looks.apply( calcRADECDot, axis=1 )\n",
    "looks['radot'] = [ X[0] for X in radec] \n",
    "looks['decdot'] = [ X[1] for X in radec] "
   ]
  },
  {
   "cell_type": "code",
   "execution_count": null,
   "id": "12e6b1f9-1727-4bc9-98b9-e1d911f65e47",
   "metadata": {},
   "outputs": [],
   "source": [
    "looks.columns"
   ]
  },
  {
   "cell_type": "code",
   "execution_count": null,
   "id": "9c248206-e95b-4517-bf45-9f98d398819b",
   "metadata": {},
   "outputs": [],
   "source": [
    "plt.close('all')\n",
    "f,ax = plt.subplots(1,2,figsize=(15,4))\n",
    "err = looks['ra'] - looks['XA_TOPO_RA']\n",
    "err = err[ np.abs(err) < 10 ]\n",
    "_ = ax[0].hist( err, bins=100, color='#818181') \n",
    "ax[0].set_title('XA_TOPO_RA')\n",
    "_ = ax[1].hist( looks['dec'] - looks['XA_TOPO_DEC'], bins=100, color='#818181') \n",
    "ax[1].set_title('XA_TOPO_DEC')\n",
    "for a in ax: a.grid()"
   ]
  },
  {
   "cell_type": "code",
   "execution_count": null,
   "id": "807be094-9070-45c4-96b1-aefb66b23a89",
   "metadata": {},
   "outputs": [],
   "source": [
    "looks['radot']"
   ]
  },
  {
   "cell_type": "code",
   "execution_count": null,
   "id": "39465b38-514a-44c9-b826-58936f78c312",
   "metadata": {},
   "outputs": [],
   "source": []
  },
  {
   "cell_type": "code",
   "execution_count": null,
   "id": "43b67360-c00e-42af-ac54-f9770426d203",
   "metadata": {},
   "outputs": [],
   "source": [
    "plt.close('all')\n",
    "f,ax = plt.subplots(2,2,figsize=(15,6))\n",
    "# avoid numbers like 359...\n",
    "err = astropy_look.pm_az_cosalt.to_value(u.deg/u.s) - looks['XA_TOPO_AZDOT']\n",
    "_ = ax[0,0].hist( err, bins=100, color='#818181') \n",
    "ax[0,0].set_title('XA_TOPO_AZDOT')\n",
    "_ = ax[0,1].hist(astropy_look.pm_alt.to_value(u.deg/u.s) - looks['XA_TOPO_ELDOT'], bins=100, color='#818181') \n",
    "ax[0,1].set_title('XA_TOPO_ELDOT')\n",
    "\n",
    "\n",
    "# _ = ax[2].hist( astropy_look.distance.to_value(u.km) - looks['XA_TOPO_RANGE'], bins=100, color='#818181') \n",
    "# ax[2].set_title('XA_TOPO_RANGE')\n",
    "# for a in ax: a.grid()"
   ]
  }
 ],
 "metadata": {
  "kernelspec": {
   "display_name": "Python 3 (ipykernel)",
   "language": "python",
   "name": "python3"
  },
  "language_info": {
   "codemirror_mode": {
    "name": "ipython",
    "version": 3
   },
   "file_extension": ".py",
   "mimetype": "text/x-python",
   "name": "python",
   "nbconvert_exporter": "python",
   "pygments_lexer": "ipython3",
   "version": "3.10.12"
  }
 },
 "nbformat": 4,
 "nbformat_minor": 5
}
