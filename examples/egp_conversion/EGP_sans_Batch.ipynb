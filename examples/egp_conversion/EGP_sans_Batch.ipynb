{
 "cells": [
  {
   "cell_type": "markdown",
   "id": "ce424b42-d942-4255-b761-dc212e8647db",
   "metadata": {},
   "source": [
    "# EGP sans BatchDC\n",
    "\n",
    "Kerry N. Wood\n",
    "\n",
    "kerry.wood@asterism.ai\n",
    "\n",
    "January 21, 2025\n",
    "\n",
    "We often want a type-0 TLE from a type-4 one.  The AstroStandards has routines for this, but they're hidden in Batch (and thus ITAR).  Write an open-source version.\n",
    "\n",
    "Do NOT hide any functionality in nice routines.  Show all the sausage."
   ]
  },
  {
   "cell_type": "code",
   "execution_count": null,
   "id": "c62220eb-b7ab-40cc-a791-2a8137c7ef07",
   "metadata": {},
   "outputs": [],
   "source": [
    "import time\n",
    "from datetime import datetime, timedelta\n",
    "import numpy as np\n",
    "import scipy.optimize\n",
    "\n",
    "# load the AstroStandards harnesses\n",
    "from load_utils import *        # load utils...\n",
    "import helpers                  # helpers that come with our harness\n",
    "\n",
    "# time helpers\n",
    "from julian_helpers import *"
   ]
  },
  {
   "cell_type": "markdown",
   "id": "120e27a5-67c3-498e-bac7-99fdbf9e17a2",
   "metadata": {},
   "source": [
    "## Input data"
   ]
  },
  {
   "cell_type": "code",
   "execution_count": null,
   "id": "e0ebf008-05dd-4d33-ba01-456a2365b77f",
   "metadata": {},
   "outputs": [],
   "source": [
    "# example TLE \n",
    "# this is a type-4 faked by a modified from a space-track TLE\n",
    "L1 = '1 25544U 98067A   24365.67842578  .00026430  00000-0  46140-3 4  9990'\n",
    "L2 = '2 25544  51.6404  61.8250 0005853  25.4579 117.0387 15.50482079489028'\n",
    "\n",
    "# what dates should we convert to?\n",
    "WINDOW_START = datetime( year=2025, month=1, day=10 )\n",
    "WINDOW_END   = datetime( year=2025, month=1, day=11 )"
   ]
  },
  {
   "cell_type": "code",
   "execution_count": null,
   "id": "0ca9e8d3-32e0-4e03-9355-675ab13b8915",
   "metadata": {},
   "outputs": [],
   "source": [
    "# init the astrostandards and get a version string\n",
    "init_all()\n",
    "# check the version of what you loaded\n",
    "infostr = Cstr('',128)\n",
    "DllMainDll.DllMainGetInfo( infostr )\n",
    "print('I see version as :\\n\\t{}'.format( infostr.value.decode('utf-8') ) )"
   ]
  },
  {
   "cell_type": "markdown",
   "id": "d5d3421b-ea1e-40b3-9e8e-68a6866ff88d",
   "metadata": {},
   "source": [
    "#### Generate truth data"
   ]
  },
  {
   "cell_type": "code",
   "execution_count": null,
   "id": "ca8506f5-0492-4e4c-8ed3-05217643b088",
   "metadata": {},
   "outputs": [],
   "source": [
    "# clear all sats\n",
    "TleDll.TleRemoveAllSats()\n",
    "# load the TLE\n",
    "tleid = TleDll.TleAddSatFrLines( Cstr(L1,512), Cstr(L2,512) )\n",
    "\n",
    "# ----------------------------------------------------------------------------------------------\n",
    "# now, pull the data back out of AstroStandards and into an \"introspector\" helper class\n",
    "# per the code, these are the XA_TLE lookups... init a helper to parse those data\n",
    "XA_TLE = helpers.astrostd_named_fields( TleDll, prefix='XA_TLE_') \n",
    "# it also passes back some string values.. we'll ignore those\n",
    "XS_TLE = Cstr('',512)\n",
    "\n",
    "# now pull..\n",
    "TleDll.TleDataToArray( tleid, XA_TLE.data, XS_TLE )  # <--- note that you pass the \"data\" holder in\n",
    "origvals = XA_TLE.toDict()\n",
    "# print the data\n",
    "print(origvals)"
   ]
  },
  {
   "cell_type": "markdown",
   "id": "452bad42-2700-47c4-b75b-280e3a0c5586",
   "metadata": {},
   "source": [
    "## Fitting\n",
    "\n",
    "So, how will we do this?\n",
    "\n",
    "- copy over the data from the original TLE (as our seed orbit), but change the type to 0\n",
    "- specify which fields we will optimize over\n",
    "- let Python twiddle the bits until we have an answer that best matches our output ephemeris"
   ]
  },
  {
   "cell_type": "code",
   "execution_count": null,
   "id": "4951a1f1-9344-4829-8436-7dfb3239b09a",
   "metadata": {},
   "outputs": [],
   "source": [
    "# truth ephemeris; pick one minute spacing because reasons\n",
    "# convert dates to the astrostandards formats using our helpers\n",
    "WINDOW_START_DS50 = helpers.datetime_to_ds50( WINDOW_START, TimeFuncDll )\n",
    "WINDOW_END_DS50   = helpers.datetime_to_ds50( WINDOW_END, TimeFuncDll )\n",
    "DS50_DATES        = np.arange( WINDOW_START_DS50, WINDOW_END_DS50, 1/1440 )  # astrostandards does days since 1950.. this is one minute steps"
   ]
  },
  {
   "cell_type": "code",
   "execution_count": null,
   "id": "d8fc0384-591f-43ef-a986-58b01753c73f",
   "metadata": {},
   "outputs": [],
   "source": [
    "# helper routine to turn data arrays into TLE lines (using astrostandards)\n",
    "def arrayToTle( HELPER : helpers.astrostd_named_fields ):\n",
    "    TleDll.TleRemoveAllSats()\n",
    "    tleid = TleDll.TleAddSatFrArray( HELPER.data, XS_TLE )\n",
    "    assert tleid > 0\n",
    "    outL1, outL2 = Cstr('',512), Cstr('',512)\n",
    "    assert TleDll.TleGetLines( tleid, outL1, outL2 ) == 0\n",
    "    return outL1.value.decode('utf-8'), outL2.value.decode('utf-8')"
   ]
  },
  {
   "cell_type": "code",
   "execution_count": null,
   "id": "1df8fea3-4b06-46ff-962c-8ce482ae57cd",
   "metadata": {},
   "outputs": [],
   "source": [
    "# -------------------------------------------------------------------------------------\n",
    "# propagate routine...\n",
    "# start with our C-handles to the variables\n",
    "mse = ctypes.c_double()\n",
    "pos = (ctypes.c_double * 3)()\n",
    "vel = (ctypes.c_double * 3)()\n",
    "llh = (ctypes.c_double * 3)()\n",
    "def propTle( tleid, ds50 : list ):\n",
    "    ''' propagate initialized tle to a bunch of dates, return matrix'''\n",
    "    def propDS50( tleid, date ):\n",
    "        Sgp4PropDll.Sgp4PropDs50UTC( tleid, date, mse, pos, vel, llh )\n",
    "        return np.hstack( (date, float(mse.value), list(pos), list(vel)) )   # < -- note the use of list / float to get copies\n",
    "    return np.vstack( [ propDS50(tleid,D) for D in ds50 ] )\n",
    "\n",
    "# init the Sgp4 propagator on the tle\n",
    "assert 0 == Sgp4PropDll.Sgp4InitSat( tleid )\n",
    "# now propagate\n",
    "truth  = propTle( tleid, DS50_DATES )\n",
    "# truth"
   ]
  },
  {
   "cell_type": "code",
   "execution_count": null,
   "id": "161ef159-2e86-49a3-9013-c608ad25c819",
   "metadata": {},
   "outputs": [],
   "source": [
    "# get another data holder and populate it with the same data as the seed\n",
    "TEST_TLE = helpers.astrostd_named_fields( TleDll, prefix='XA_TLE_') \n",
    "# use a conversion routine to convert to the array *without* loading\n",
    "TleDll.TleLinesToArray( Cstr(L1,512), Cstr(L2,512), TEST_TLE.data, XS_TLE )\n",
    "# switch the type from 4 to zero... \n",
    "TEST_TLE['XA_TLE_EPHTYPE'] = 0.\n",
    "# set the epoch to the start of our interval\n",
    "TEST_TLE['XA_TLE_EPOCH'] = (WINDOW_START_DS50 + WINDOW_END_DS50) / 2\n",
    "# save those as our seedvals\n",
    "seedvals = TEST_TLE.toDict()\n",
    "\n",
    "# what fields will we optimize over?  This doubles as a field accessor list for the optimizer..\n",
    "FIELDS = [\n",
    "'XA_TLE_BTERM',\n",
    "'XA_TLE_NDOT',\n",
    "'XA_TLE_SP_BTERM',\n",
    "'XA_TLE_INCLI',\n",
    "'XA_TLE_NODE',\n",
    "'XA_TLE_ECCEN',\n",
    "'XA_TLE_OMEGA',\n",
    "'XA_TLE_MNANOM',\n",
    "'XA_TLE_MNMOTN',\n",
    "]\n",
    "\n",
    "def optFunction( X, FIELDS, seedvals, return_scalar=True ):\n",
    "    # --------------------- set our seed values (all vals)\n",
    "    for k,v in seedvals.items(): TEST_TLE[ k ] = v\n",
    "    # --------------------- now use modified values\n",
    "    for k,v in zip(FIELDS,X) :   TEST_TLE[ k ] = v\n",
    "\n",
    "    # --------------------- clear state\n",
    "    TleDll.TleRemoveAllSats()\n",
    "    Sgp4PropDll.Sgp4RemoveAllSats()\n",
    "\n",
    "    # --------------------- init our test TLE from the modified data\n",
    "    tleid = TleDll.TleAddSatFrArray( TEST_TLE.data, XS_TLE )\n",
    "    if tleid <= 0: return np.inf\n",
    "    if Sgp4PropDll.Sgp4InitSat( tleid ) != 0: return np.inf\n",
    "    \n",
    "    # --------------------- generate our test ephemeris\n",
    "    test_tle = propTle( tleid, DS50_DATES )\n",
    "    \n",
    "    # use numpy to return the distance between our hypothesis and truth\n",
    "    resids = test_tle[:,2:] - truth[:,2:]\n",
    "    print(  np.sum( np.linalg.norm( resids[:,:3], axis=1 )  ) , end='\\r')\n",
    "    if return_scalar:\n",
    "        return np.sum( np.linalg.norm( resids[:,:3], axis=1 ) ) \n",
    "    else:\n",
    "        np.linalg.norm( resids[:,:3], axis=1 ) "
   ]
  },
  {
   "cell_type": "code",
   "execution_count": null,
   "id": "20779acf-f691-4713-aaa2-d3d67f67efc5",
   "metadata": {},
   "outputs": [],
   "source": [
    "st= time.time()\n",
    "# -----------------------------  nelder mead -----------------------------\n",
    "# if your seed is not near the final, nelder works great (at the expense of time)\n",
    "ans = scipy.optimize.minimize( optFunction, \n",
    "                               [ seedvals[k] for k in FIELDS ],\n",
    "                               args = (FIELDS,seedvals,True),\n",
    "                               method = 'Nelder-Mead')\n",
    "\n",
    "# -----------------------------  least_sq  -----------------------------\n",
    "# if your seed IS near the final, follow the gradient\n",
    "# ans = scipy.optimize.least_squares( optFunction, \n",
    "#                                [ seedvals[k] for k in FIELDS ],\n",
    "#                                args = (FIELDS,seedvals, False) )\n",
    "\n",
    "print('Optimization / conversion took {:8.3f} seconds'.format( time.time() - st ) )"
   ]
  },
  {
   "cell_type": "code",
   "execution_count": null,
   "id": "18f00de8-c54d-408e-b911-ccb06a7960fe",
   "metadata": {},
   "outputs": [],
   "source": [
    "print('Your original TLE was')\n",
    "print('\\n'.join( [L1,L2] ) ) \n",
    "\n",
    "# what was our seed value\n",
    "for k,v in seedvals.items(): TEST_TLE[ k ] = v\n",
    "print('Your seed TLE was')\n",
    "print('\\n'.join(arrayToTle( TEST_TLE )))\n",
    "\n",
    "# now update with perturbed values\n",
    "for k,v in zip(FIELDS,ans.x) :   TEST_TLE[ k ] = v\n",
    "print('Your updated TLE is')\n",
    "print('\\n'.join(arrayToTle( TEST_TLE )))"
   ]
  },
  {
   "cell_type": "code",
   "execution_count": null,
   "id": "33aaf169-bf6d-446b-8c88-bd99a3a938fa",
   "metadata": {},
   "outputs": [],
   "source": [
    "seedvals"
   ]
  }
 ],
 "metadata": {
  "kernelspec": {
   "display_name": "Python 3 (ipykernel)",
   "language": "python",
   "name": "python3"
  },
  "language_info": {
   "codemirror_mode": {
    "name": "ipython",
    "version": 3
   },
   "file_extension": ".py",
   "mimetype": "text/x-python",
   "name": "python",
   "nbconvert_exporter": "python",
   "pygments_lexer": "ipython3",
   "version": "3.10.12"
  }
 },
 "nbformat": 4,
 "nbformat_minor": 5
}
