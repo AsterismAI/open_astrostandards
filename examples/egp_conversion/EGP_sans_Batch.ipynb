{
 "cells": [
  {
   "cell_type": "markdown",
   "id": "ce424b42-d942-4255-b761-dc212e8647db",
   "metadata": {},
   "source": [
    "# EGP sans BatchDC\n",
    "\n",
    "Kerry N. Wood\n",
    "\n",
    "kerry.wood@asterism.ai\n",
    "\n",
    "January 21, 2025\n",
    "\n",
    "We often want a type-0 TLE from a type-4 one.  The AstroStandards has routines for this, but they're hidden in Batch (and thus ITAR).  Write an open-source version.\n",
    "\n",
    "Do NOT hide any functionality in nice routines.  Show all the sausage."
   ]
  },
  {
   "cell_type": "code",
   "execution_count": 1,
   "id": "c62220eb-b7ab-40cc-a791-2a8137c7ef07",
   "metadata": {},
   "outputs": [
    {
     "name": "stderr",
     "output_type": "stream",
     "text": [
      "****************************************************************************************************\n",
      "Remember when converting dates/times that you should use Julian dates to avoid leap second issues\n",
      "   helpers.DS50EPOCH + <days_since_50_float> * u.day ---> WRONG\n",
      "   astropy.time.Time( helpers.DS50EPOCH.jd + <days_since_50_float> , format='jd') ---> CORRECT\n",
      "****************************************************************************************************\n"
     ]
    }
   ],
   "source": [
    "import time\n",
    "from datetime import datetime, timedelta\n",
    "import numpy as np\n",
    "import scipy.optimize\n",
    "\n",
    "# load the AstroStandards harnesses\n",
    "from load_utils import *        # load utils...\n",
    "import helpers                  # helpers that come with our harness"
   ]
  },
  {
   "cell_type": "markdown",
   "id": "120e27a5-67c3-498e-bac7-99fdbf9e17a2",
   "metadata": {},
   "source": [
    "## Input data"
   ]
  },
  {
   "cell_type": "code",
   "execution_count": 2,
   "id": "e0ebf008-05dd-4d33-ba01-456a2365b77f",
   "metadata": {},
   "outputs": [],
   "source": [
    "# example TLE \n",
    "# this is a type-4 faked by a modified from a space-track TLE\n",
    "L1 = '1 25544U 98067A   24365.67842578  .00026430  00000-0  46140-3 4  9990'\n",
    "L2 = '2 25544  51.6404  61.8250 0005853  25.4579 117.0387 15.50482079489028'\n",
    "\n",
    "# what dates should we convert to?\n",
    "WINDOW_START = datetime( year=2025, month=1, day=10 )\n",
    "WINDOW_END   = datetime( year=2025, month=1, day=11 )"
   ]
  },
  {
   "cell_type": "code",
   "execution_count": 3,
   "id": "0ca9e8d3-32e0-4e03-9355-675ab13b8915",
   "metadata": {},
   "outputs": [
    {
     "name": "stdout",
     "output_type": "stream",
     "text": [
      "EnvConstDll: 0\n",
      "TimeFuncDll: 0\n",
      "AstroFuncDll: 0\n",
      "TleDll: 0\n",
      "SpVecDll: 0\n",
      "VcmDll: 0\n",
      "ExtEphemDll: 0\n",
      "Sgp4PropDll: 0\n",
      "SpPropDll: 0\n",
      "ElOpsDll: 0\n",
      "SatStateDll: 0\n",
      "SensorDll: 0\n",
      "ObsDll: 0\n",
      "ObsOpsDll: 0\n",
      "LamodDll: 0\n",
      "RotasDll: 0\n",
      "BatchDCDll: 0\n",
      "b''\n",
      "I see version as :\n",
      "\tHQ SpOC DllMain - Version: v9.4 - Build: May 03 2024 - Platform: Linux 64-bit - Compiler: OneAPI ifort                          \n"
     ]
    }
   ],
   "source": [
    "# init the astrostandards and get a version string\n",
    "init_all()\n",
    "# check the version of what you loaded\n",
    "infostr = Cstr('',128)\n",
    "DllMainDll.DllMainGetInfo( infostr )\n",
    "print('I see version as :\\n\\t{}'.format( infostr.value.decode('utf-8') ) )"
   ]
  },
  {
   "cell_type": "markdown",
   "id": "d5d3421b-ea1e-40b3-9e8e-68a6866ff88d",
   "metadata": {},
   "source": [
    "#### Generate truth data"
   ]
  },
  {
   "cell_type": "code",
   "execution_count": 4,
   "id": "ca8506f5-0492-4e4c-8ed3-05217643b088",
   "metadata": {},
   "outputs": [
    {
     "name": "stdout",
     "output_type": "stream",
     "text": [
      "{'XA_TLE_SATNUM': 25544.0, 'XA_TLE_EPOCH': 27393.67842578, 'XA_TLE_NDOT': 0.0002643, 'XA_TLE_SP_BTERM': 0.0002643, 'XA_TLE_NDOTDOT': 0.0, 'XA_TLE_SP_OGPARM': 0.0, 'XA_TLE_BSTAR': 0.0, 'XA_TLE_SP_AGOM': 0.0, 'XA_TLE_EPHTYPE': 4.0, 'XA_TLE_INCLI': 51.6404, 'XA_TLE_NODE': 61.825, 'XA_TLE_ECCEN': 0.0005853, 'XA_TLE_OMEGA': 25.4579, 'XA_TLE_MNANOM': 117.0387, 'XA_TLE_MNMOTN': 15.50482079, 'XA_TLE_REVNUM': 48902.0, 'XA_TLE_ELSETNUM': 999.0, 'XA_TLE_ORGSATNUM': 0.0, 'XA_TLE_BTERM': 0.0004614, 'XA_TLE_OBSTIME': 0.0, 'XA_TLE_EGR': 0.0, 'XA_TLE_EDR': 0.0, 'XA_TLE_VISMAG': 0.0, 'XA_TLE_RCS': 0.0, 'XA_TLE_AGOMGP': 0.0}\n"
     ]
    }
   ],
   "source": [
    "# clear all sats\n",
    "TleDll.TleRemoveAllSats()\n",
    "# load the TLE\n",
    "tleid = TleDll.TleAddSatFrLines( Cstr(L1,512), Cstr(L2,512) )\n",
    "\n",
    "# ----------------------------------------------------------------------------------------------\n",
    "# now, pull the data back out of AstroStandards and into an \"introspector\" helper class\n",
    "# per the code, these are the XA_TLE lookups... init a helper to parse those data\n",
    "XA_TLE = helpers.astrostd_named_fields( TleDll, prefix='XA_TLE_') \n",
    "# it also passes back some string values.. we'll ignore those\n",
    "XS_TLE = Cstr('',512)\n",
    "\n",
    "# now pull..\n",
    "TleDll.TleDataToArray( tleid, XA_TLE.data, XS_TLE )  # <--- note that you pass the \"data\" holder in\n",
    "origvals = XA_TLE.toDict()\n",
    "# print the data\n",
    "print(origvals)"
   ]
  },
  {
   "cell_type": "markdown",
   "id": "452bad42-2700-47c4-b75b-280e3a0c5586",
   "metadata": {},
   "source": [
    "## Fitting\n",
    "\n",
    "So, how will we do this?\n",
    "\n",
    "- copy over the data from the original TLE (as our seed orbit), but change the type to 0\n",
    "- specify which fields we will optimize over\n",
    "- let Python twiddle the bits until we have an answer that best matches our output ephemeris"
   ]
  },
  {
   "cell_type": "code",
   "execution_count": 5,
   "id": "4951a1f1-9344-4829-8436-7dfb3239b09a",
   "metadata": {},
   "outputs": [],
   "source": [
    "# truth ephemeris; pick one minute spacing because reasons\n",
    "# convert dates to the astrostandards formats using our helpers\n",
    "WINDOW_START_DS50 = helpers.datetime_to_ds50( WINDOW_START, TimeFuncDll )\n",
    "WINDOW_END_DS50   = helpers.datetime_to_ds50( WINDOW_END, TimeFuncDll )\n",
    "DS50_DATES        = np.arange( WINDOW_START_DS50, WINDOW_END_DS50, 1/1440 )  # astrostandards does days since 1950.. this is one minute steps"
   ]
  },
  {
   "cell_type": "code",
   "execution_count": 6,
   "id": "d8fc0384-591f-43ef-a986-58b01753c73f",
   "metadata": {},
   "outputs": [],
   "source": [
    "# helper routine to turn data arrays into TLE lines (using astrostandards)\n",
    "def arrayToTle( HELPER : helpers.astrostd_named_fields ):\n",
    "    TleDll.TleRemoveAllSats()\n",
    "    tleid = TleDll.TleAddSatFrArray( HELPER.data, XS_TLE )\n",
    "    assert tleid > 0\n",
    "    outL1, outL2 = Cstr('',512), Cstr('',512)\n",
    "    assert TleDll.TleGetLines( tleid, outL1, outL2 ) == 0\n",
    "    return outL1.value.decode('utf-8'), outL2.value.decode('utf-8')"
   ]
  },
  {
   "cell_type": "code",
   "execution_count": 7,
   "id": "1df8fea3-4b06-46ff-962c-8ce482ae57cd",
   "metadata": {},
   "outputs": [],
   "source": [
    "# -------------------------------------------------------------------------------------\n",
    "# propagate routine...\n",
    "# start with our C-handles to the variables\n",
    "mse = ctypes.c_double()\n",
    "pos = (ctypes.c_double * 3)()\n",
    "vel = (ctypes.c_double * 3)()\n",
    "llh = (ctypes.c_double * 3)()\n",
    "def propTle( tleid, ds50 : list ):\n",
    "    ''' propagate initialized tle to a bunch of dates, return matrix'''\n",
    "    def propDS50( tleid, date ):\n",
    "        Sgp4PropDll.Sgp4PropDs50UTC( tleid, date, mse, pos, vel, llh )\n",
    "        return np.hstack( (date, float(mse.value), list(pos), list(vel)) )   # < -- note the use of list / float to get copies\n",
    "    return np.vstack( [ propDS50(tleid,D) for D in ds50 ] )\n",
    "\n",
    "# init the Sgp4 propagator on the tle\n",
    "assert 0 == Sgp4PropDll.Sgp4InitSat( tleid )\n",
    "# now propagate\n",
    "truth  = propTle( tleid, DS50_DATES )\n",
    "# truth"
   ]
  },
  {
   "cell_type": "code",
   "execution_count": 8,
   "id": "8b7f7bb1-4e3d-4d33-9fdf-5f3087f19a77",
   "metadata": {},
   "outputs": [],
   "source": [
    "# get another data holder and populate it with the same data as the seed\n",
    "TEST_TLE = helpers.astrostd_named_fields( TleDll, prefix='XA_TLE_') \n",
    "# use a conversion routine to convert to the array *without* loading\n",
    "TleDll.TleLinesToArray( Cstr(L1,512), Cstr(L2,512), TEST_TLE.data, XS_TLE )\n",
    "# switch the type from 4 to zero... \n",
    "TEST_TLE['XA_TLE_EPHTYPE'] = 0.\n",
    "# set the epoch to the start of our interval\n",
    "TEST_TLE['XA_TLE_EPOCH'] = (WINDOW_START_DS50 + WINDOW_END_DS50) / 2"
   ]
  },
  {
   "cell_type": "code",
   "execution_count": 9,
   "id": "df26e40a-472f-4244-bee7-1098362cf7dc",
   "metadata": {},
   "outputs": [
    {
     "data": {
      "text/plain": [
       "{'XA_TLE_SATNUM': 25544.0,\n",
       " 'XA_TLE_EPOCH': 27404.5,\n",
       " 'XA_TLE_NDOT': 0.0002643,\n",
       " 'XA_TLE_SP_BTERM': 0.0002643,\n",
       " 'XA_TLE_NDOTDOT': 0.0,\n",
       " 'XA_TLE_SP_OGPARM': 0.0,\n",
       " 'XA_TLE_BSTAR': 0.0,\n",
       " 'XA_TLE_SP_AGOM': 0.0,\n",
       " 'XA_TLE_EPHTYPE': 0.0,\n",
       " 'XA_TLE_INCLI': 51.6404,\n",
       " 'XA_TLE_NODE': 61.825,\n",
       " 'XA_TLE_ECCEN': 0.0005853,\n",
       " 'XA_TLE_OMEGA': 25.4579,\n",
       " 'XA_TLE_MNANOM': 117.0387,\n",
       " 'XA_TLE_MNMOTN': 15.50482079,\n",
       " 'XA_TLE_REVNUM': 48902.0,\n",
       " 'XA_TLE_ELSETNUM': 999.0,\n",
       " 'XA_TLE_ORGSATNUM': 0.0,\n",
       " 'XA_TLE_BTERM': 0.0004614,\n",
       " 'XA_TLE_OBSTIME': 0.0,\n",
       " 'XA_TLE_EGR': 0.0,\n",
       " 'XA_TLE_EDR': 0.0,\n",
       " 'XA_TLE_VISMAG': 0.0,\n",
       " 'XA_TLE_RCS': 0.0,\n",
       " 'XA_TLE_AGOMGP': 0.0}"
      ]
     },
     "execution_count": 9,
     "metadata": {},
     "output_type": "execute_result"
    }
   ],
   "source": [
    "TEST_TLE.toDict()"
   ]
  },
  {
   "cell_type": "code",
   "execution_count": 10,
   "id": "02907b5d-e907-43dd-b0e8-d4b575849421",
   "metadata": {},
   "outputs": [],
   "source": [
    "# reset the seed state to the new epoch, first find the closest date to the epoch\n",
    "new_epoch = TEST_TLE['XA_TLE_EPOCH']\n",
    "idx       = np.argmin( np.abs( truth[:,0] - new_epoch ) )\n",
    "new_sv    = truth[ idx ]\n",
    "P,V       = truth[idx,2:5], truth[idx,5:]\n",
    "\n",
    "# we'll use the conversion in the astrostandards\n",
    "XA_KEP    = helpers.astrostd_named_fields( AstroFuncDll,  prefix='XA_KEP_' )\n",
    "AstroFuncDll.PosVelToKep( (ctypes.c_double*3)(*P), (ctypes.c_double*3)(*V), XA_KEP.data )\n",
    "\n",
    "# now set the values\n",
    "TEST_TLE['XA_TLE_INCLI']  = XA_KEP['XA_KEP_INCLI']\n",
    "TEST_TLE['XA_TLE_NODE']   = XA_KEP['XA_KEP_NODE']\n",
    "TEST_TLE['XA_TLE_ECCEN']  = XA_KEP['XA_KEP_E']\n",
    "TEST_TLE['XA_TLE_MNANOM'] = XA_KEP['XA_KEP_MA']\n",
    "TEST_TLE['XA_TLE_OMEGA']  = XA_KEP['XA_KEP_OMEGA']\n",
    "TEST_TLE['XA_TLE_OMEGA']  = XA_KEP['XA_KEP_OMEGA']\n",
    "TEST_TLE['XA_TLE_MNMOTN'] = AstroFuncDll.AToN( XA_KEP['XA_KEP_A'] )\n",
    "\n",
    "# save those as our seedvals\n",
    "seedvals = TEST_TLE.toDict()"
   ]
  },
  {
   "cell_type": "code",
   "execution_count": 43,
   "id": "161ef159-2e86-49a3-9013-c608ad25c819",
   "metadata": {},
   "outputs": [],
   "source": [
    "# what fields will we optimize over?  This doubles as a field accessor list for the optimizer..\n",
    "FIELDS = [\n",
    "'XA_TLE_BTERM',\n",
    "'XA_TLE_NDOT',\n",
    "'XA_TLE_SP_BTERM',\n",
    "'XA_TLE_INCLI',\n",
    "'XA_TLE_NODE',\n",
    "'XA_TLE_ECCEN',\n",
    "'XA_TLE_OMEGA',\n",
    "'XA_TLE_MNANOM',\n",
    "'XA_TLE_MNMOTN',\n",
    "]\n",
    "\n",
    "def optFunction( X, FIELDS, seedvals, return_scalar=True ):\n",
    "    # --------------------- set our seed values (all vals)\n",
    "    for k,v in seedvals.items(): TEST_TLE[ k ] = v\n",
    "    # --------------------- now use modified values\n",
    "    for k,v in zip(FIELDS,X) :   TEST_TLE[ k ] = v\n",
    "\n",
    "    # --------------------- clear state\n",
    "    TleDll.TleRemoveAllSats()\n",
    "    Sgp4PropDll.Sgp4RemoveAllSats()\n",
    "\n",
    "    # --------------------- init our test TLE from the modified data\n",
    "    tleid = TleDll.TleAddSatFrArray( TEST_TLE.data, XS_TLE )\n",
    "    if tleid <= 0: return np.inf\n",
    "    if Sgp4PropDll.Sgp4InitSat( tleid ) != 0: return np.inf\n",
    "    \n",
    "    # --------------------- generate our test ephemeris\n",
    "    test_tle = propTle( tleid, DS50_DATES )\n",
    "    \n",
    "    # use numpy to return the distance between our hypothesis and truth\n",
    "    resids = test_tle[:,2:] - truth[:,2:]\n",
    "    rms    = np.sqrt( np.sum( np.linalg.norm( resids, axis=1 ) ) / resids.shape[0] )\n",
    "    print( rms , end='\\r')\n",
    "    if return_scalar:\n",
    "        return rms\n",
    "        # return np.sum( np.linalg.norm( resids[:,:3], axis=1 ) ) \n",
    "    else:\n",
    "        np.linalg.norm( resids[:,:3], axis=1 ) "
   ]
  },
  {
   "cell_type": "code",
   "execution_count": 44,
   "id": "20779acf-f691-4713-aaa2-d3d67f67efc5",
   "metadata": {},
   "outputs": [
    {
     "name": "stdout",
     "output_type": "stream",
     "text": [
      "Optimization / conversion took   19.696 seconds\n"
     ]
    }
   ],
   "source": [
    "st= time.time()\n",
    "\n",
    "# get an initial simplex that is rich in entropy\n",
    "# seed  = np.array( [ seedvals[k] for k in FIELDS ] )\n",
    "# N     = len(seed)\n",
    "# smplx = np.random.uniform(0,.5,size=(N+1,N))\n",
    "# smplx += seed \n",
    "\n",
    "# -----------------------------  nelder mead -----------------------------\n",
    "# if your seed is not near the final, nelder works great (at the expense of time)\n",
    "ans = scipy.optimize.minimize( optFunction, \n",
    "                               [ seedvals[k] for k in FIELDS ],\n",
    "                               args    = (FIELDS,seedvals,True),\n",
    "                               method  = 'Nelder-Mead' )\n",
    "                               # options = {'initial_simplex' : smplx } )\n",
    "\n",
    "# -----------------------------  least_sq  -----------------------------\n",
    "# if your seed IS near the final, follow the gradient\n",
    "# ans = scipy.optimize.least_squares( optFunction, \n",
    "#                                [ seedvals[k] for k in FIELDS ],\n",
    "#                                args = (FIELDS,seedvals, False) )\n",
    "\n",
    "print('Optimization / conversion took {:8.3f} seconds'.format( time.time() - st ) )"
   ]
  },
  {
   "cell_type": "code",
   "execution_count": 37,
   "id": "18f00de8-c54d-408e-b911-ccb06a7960fe",
   "metadata": {},
   "outputs": [
    {
     "name": "stdout",
     "output_type": "stream",
     "text": [
      "Your original TLE was\n",
      "1 25544U 98067A   24365.67842578  .00026430  00000-0  46140-3 4  9990\n",
      "2 25544  51.6404  61.8250 0005853  25.4579 117.0387 15.50482079489028\n",
      "Your seed TLE was\n",
      "1 25544U 98067A   25010.50000000 +.00026430  00000 0  00000 0 0 0999                                                                                                                                                                                                                                                                                                                                                                                                                                                            \n",
      "2 25544  51.6266   8.1144 0013106  21.2258  91.5451 15.5193427848902                                                                                                                                                                                                                                                                                                                                                                                                                                                            \n",
      "Your updated TLE is\n",
      "1 25544U 98067A   25010.50000000 -.00002658  00000 0  00000 0 0 0999                                                                                                                                                                                                                                                                                                                                                                                                                                                            \n",
      "2 25544  51.6406   8.1329 0008775 353.3961 119.3907 15.5067675248902                                                                                                                                                                                                                                                                                                                                                                                                                                                            \n"
     ]
    }
   ],
   "source": [
    "print('Your original TLE was')\n",
    "print('\\n'.join( [L1,L2] ) ) \n",
    "\n",
    "# what was our seed value\n",
    "for k,v in seedvals.items(): TEST_TLE[ k ] = v\n",
    "print('Your seed TLE was')\n",
    "print('\\n'.join(arrayToTle( TEST_TLE )))\n",
    "\n",
    "# now update with perturbed values\n",
    "for k,v in zip(FIELDS,ans.x) :   TEST_TLE[ k ] = v\n",
    "print('Your updated TLE is')\n",
    "print('\\n'.join(arrayToTle( TEST_TLE )))"
   ]
  },
  {
   "cell_type": "code",
   "execution_count": 38,
   "id": "33aaf169-bf6d-446b-8c88-bd99a3a938fa",
   "metadata": {},
   "outputs": [
    {
     "name": "stdout",
     "output_type": "stream",
     "text": [
      "XA_TLE_BTERM      0.00046140   0.00207021\n",
      "XA_TLE_NDOT       0.00026430   0.00009262\n",
      "XA_TLE_SP_BTERM   0.00026430  -0.00002658\n",
      "XA_TLE_INCLI     51.62663150  51.64055297\n",
      "XA_TLE_NODE       8.11444312   8.13285676\n",
      "XA_TLE_ECCEN      0.00131061   0.00087751\n",
      "XA_TLE_OMEGA     21.22582332  -6.60393936\n",
      "XA_TLE_MNANOM    91.54514763 119.39073180\n",
      "XA_TLE_MNMOTN    15.51934278  15.50676752\n"
     ]
    }
   ],
   "source": [
    "for i,F in enumerate(FIELDS):\n",
    "    print('{:15} {:12.8f} {:12.8f}'.format(F, seedvals[F], ans.x[i] ) )"
   ]
  },
  {
   "cell_type": "code",
   "execution_count": 39,
   "id": "a750046b-6814-4ebd-b60e-ad7156982ffe",
   "metadata": {},
   "outputs": [
    {
     "data": {
      "text/plain": [
       "       message: Optimization terminated successfully.\n",
       "       success: True\n",
       "        status: 0\n",
       "           fun: 49.34369082563087\n",
       "             x: [ 2.070e-03  9.262e-05 -2.658e-05  5.164e+01  8.133e+00\n",
       "                  8.775e-04 -6.604e+00  1.194e+02  1.551e+01]\n",
       "           nit: 753\n",
       "          nfev: 1167\n",
       " final_simplex: (array([[ 2.070e-03,  9.262e-05, ...,  1.194e+02,\n",
       "                         1.551e+01],\n",
       "                       [ 2.070e-03,  9.262e-05, ...,  1.194e+02,\n",
       "                         1.551e+01],\n",
       "                       ...,\n",
       "                       [ 2.070e-03,  9.262e-05, ...,  1.194e+02,\n",
       "                         1.551e+01],\n",
       "                       [ 2.070e-03,  9.262e-05, ...,  1.194e+02,\n",
       "                         1.551e+01]]), array([ 4.934e+01,  4.934e+01,  4.934e+01,  4.934e+01,\n",
       "                        4.934e+01,  4.934e+01,  4.934e+01,  4.934e+01,\n",
       "                        4.934e+01,  4.934e+01]))"
      ]
     },
     "execution_count": 39,
     "metadata": {},
     "output_type": "execute_result"
    }
   ],
   "source": [
    "ans"
   ]
  },
  {
   "cell_type": "code",
   "execution_count": null,
   "id": "993a1714-7ce6-47b2-87db-f443875741ec",
   "metadata": {},
   "outputs": [],
   "source": []
  }
 ],
 "metadata": {
  "kernelspec": {
   "display_name": "Python 3 (ipykernel)",
   "language": "python",
   "name": "python3"
  },
  "language_info": {
   "codemirror_mode": {
    "name": "ipython",
    "version": 3
   },
   "file_extension": ".py",
   "mimetype": "text/x-python",
   "name": "python",
   "nbconvert_exporter": "python",
   "pygments_lexer": "ipython3",
   "version": "3.10.12"
  }
 },
 "nbformat": 4,
 "nbformat_minor": 5
}
